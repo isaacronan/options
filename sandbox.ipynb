{
 "cells": [
  {
   "cell_type": "code",
   "execution_count": 1,
   "id": "29fd829e",
   "metadata": {},
   "outputs": [
    {
     "name": "stdout",
     "output_type": "stream",
     "text": [
      "https://us.etrade.com/e/t/etws/authorize?key=e9f044d6622bc28c6e34e91d75899aa3&token=H7+mNHzQsYYfQjMV03TjiYw3eRE1R3HmyauW9695HFY=\n",
      "code: AWIS9\n"
     ]
    }
   ],
   "source": [
    "from utils import get_scenario_details"
   ]
  },
  {
   "cell_type": "code",
   "execution_count": 2,
   "id": "a590d377",
   "metadata": {},
   "outputs": [
    {
     "data": {
      "text/plain": [
       "ScenarioDetails(expiry_date=datetime.date(2021, 11, 10), option=Option(strike_price=454.0, last_price=0.15), total_cost=78.25, total_revenue=4448.25000000003, total_profit=4370.00000000003)"
      ]
     },
     "execution_count": 2,
     "metadata": {},
     "output_type": "execute_result"
    }
   ],
   "source": [
    "get_scenario_details(\n",
    "    symbol='SPY',\n",
    "    days_until_expiry=3,\n",
    "    contract_count=5,\n",
    "    target_strike_decrease=0.03,\n",
    "    target_underlying_decrease=0.05\n",
    ")"
   ]
  },
  {
   "cell_type": "code",
   "execution_count": null,
   "id": "68ed3e12",
   "metadata": {},
   "outputs": [],
   "source": []
  }
 ],
 "metadata": {
  "kernelspec": {
   "display_name": "Python 3 (ipykernel)",
   "language": "python",
   "name": "python3"
  },
  "language_info": {
   "codemirror_mode": {
    "name": "ipython",
    "version": 3
   },
   "file_extension": ".py",
   "mimetype": "text/x-python",
   "name": "python",
   "nbconvert_exporter": "python",
   "pygments_lexer": "ipython3",
   "version": "3.10.0"
  }
 },
 "nbformat": 4,
 "nbformat_minor": 5
}
